{
 "cells": [
  {
   "cell_type": "code",
   "execution_count": null,
   "id": "199a9b61",
   "metadata": {},
   "outputs": [],
   "source": [
    "\n",
    "!pip install openai pandas matplotlib seaborn --quiet\n"
   ]
  },
  {
   "cell_type": "code",
   "execution_count": null,
   "id": "66a9d5e4",
   "metadata": {},
   "outputs": [],
   "source": [
    "\n",
    "import pandas as pd\n",
    "import matplotlib.pyplot as plt\n",
    "import seaborn as sns\n",
    "from openai import OpenAI\n",
    "\n",
    "# Load sample CSV\n",
    "url = \"https://raw.githubusercontent.com/plotly/datasets/master/superstore.csv\"\n",
    "df = pd.read_csv(url)\n",
    "df.head()\n"
   ]
  },
  {
   "cell_type": "code",
   "execution_count": null,
   "id": "a6c8a57b",
   "metadata": {},
   "outputs": [],
   "source": [
    "\n",
    "# Replace with your OpenAI API key or local LLM token\n",
    "OPENAI_API_KEY = \"YOUR_API_KEY_HERE\"\n",
    "\n",
    "client = OpenAI(api_key=OPENAI_API_KEY)\n",
    "\n",
    "def ask_df(question, df):\n",
    "    prompt = f\"\"\"You are a Python assistant. I have a pandas DataFrame called df.\n",
    "Answer the question using Python pandas code ONLY (define a variable 'result').\n",
    "Question: {question}\"\"\"\n",
    "    \n",
    "    response = client.chat.completions.create(\n",
    "        model=\"gpt-4o-mini\",\n",
    "        messages=[{\"role\": \"user\", \"content\": prompt}]\n",
    "    )\n",
    "    code = response.choices[0].message.content\n",
    "    print(\"Generated code:\\n\", code)\n",
    "    local_vars = {\"df\": df}\n",
    "    try:\n",
    "        exec(code, {}, local_vars)\n",
    "        return local_vars.get(\"result\", None)\n",
    "    except Exception as e:\n",
    "        print(\"Error executing code:\", e)\n",
    "        return None\n"
   ]
  },
  {
   "cell_type": "code",
   "execution_count": null,
   "id": "9a174c82",
   "metadata": {},
   "outputs": [],
   "source": [
    "\n",
    "# Example queries\n",
    "questions = [\n",
    "    \"Top 5 products by sales\",\n",
    "    \"Total revenue per region\",\n",
    "    \"Average shipping cost per category\"\n",
    "]\n",
    "\n",
    "for q in questions:\n",
    "    print(f\"\\nQuestion: {q}\")\n",
    "    answer = ask_df(q, df)\n",
    "    print(\"Answer:\")\n",
    "    print(answer)\n"
   ]
  }
 ],
 "metadata": {},
 "nbformat": 4,
 "nbformat_minor": 5
}
